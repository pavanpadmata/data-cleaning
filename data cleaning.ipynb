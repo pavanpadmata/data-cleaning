{
 "cells": [
  {
   "cell_type": "code",
   "execution_count": null,
   "id": "52992a6f",
   "metadata": {},
   "outputs": [],
   "source": [
    "import pandas as pd\n",
    "\n",
    "# Load your dataset into a DataFrame\n",
    "data = pd.read_csv('your_dataset.csv')\n",
    "\n",
    "# Step 1: Handling Missing Data\n",
    "# Remove rows with missing values\n",
    "data = data.dropna()\n",
    "\n",
    "# Step 2: Removing Duplicates\n",
    "# Remove duplicate rows\n",
    "data = data.drop_duplicates()\n",
    "\n",
    "# Step 3: Outlier Detection and Handling (example using z-score)\n",
    "from scipy import stats\n",
    "z_scores = stats.zscore(data['your_numeric_column'])\n",
    "data = data[(z_scores < 3)]  # Keep only data points within 3 standard deviations\n",
    "\n",
    "# Step 4: Data Transformation (example: encoding categorical variables)\n",
    "data = pd.get_dummies(data, columns=['categorical_column'])\n",
    "\n",
    "# Step 5: Data Validation (example: filtering based on a condition)\n",
    "data = data[data['numeric_column'] >= 0]\n",
    "\n",
    "# Step 6: Data Quality Metrics (example: check for data completeness)\n",
    "completeness = 1 - data.isnull().sum() / len(data)\n",
    "\n",
    "# Display the cleaned data or save it to a new file\n",
    "print(data.head())\n",
    "# data.to_csv('cleaned_data.csv', index=False)\n"
   ]
  }
 ],
 "metadata": {
  "kernelspec": {
   "display_name": "Python 3 (ipykernel)",
   "language": "python",
   "name": "python3"
  },
  "language_info": {
   "codemirror_mode": {
    "name": "ipython",
    "version": 3
   },
   "file_extension": ".py",
   "mimetype": "text/x-python",
   "name": "python",
   "nbconvert_exporter": "python",
   "pygments_lexer": "ipython3",
   "version": "3.10.9"
  }
 },
 "nbformat": 4,
 "nbformat_minor": 5
}
